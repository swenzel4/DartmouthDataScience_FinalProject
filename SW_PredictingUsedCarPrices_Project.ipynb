{
 "cells": [
  {
   "cell_type": "markdown",
   "metadata": {},
   "source": [
    "<img src=\"https://s3.amazonaws.com/ByC_logo_prod/unit-26963.jpg\" alt=\"Alt text that describes the graphic\" width=\"600\" />"
   ]
  },
  {
   "cell_type": "markdown",
   "metadata": {},
   "source": [
    "# Predicting The Price of Used Cars"
   ]
  },
  {
   "cell_type": "markdown",
   "metadata": {},
   "source": [
    "### by Shelley Wenzel"
   ]
  },
  {
   "cell_type": "markdown",
   "metadata": {},
   "source": [
    "#### June 25, 2020"
   ]
  },
  {
   "cell_type": "markdown",
   "metadata": {},
   "source": [
    "# Table of contents\n",
    "\n",
    "- [Abstract](#Abstract)\n",
    "- [Introduction](#Introduction)\n",
    "- [1. The problem](#1.-The-problem)\n",
    "- [2. Purpose of the study](#2.-Purpose-of-the-study)\n",
    "- [3. Project description](#3.-Project-description)\n",
    "    - [3.1 Hypothesis](#3.1-Hypothesis)\n",
    "    - [3.2 Workflow](#3.2-Workflow)\n",
    "    - [3.3 Methods](#3.3-Methods)\n",
    "    - [3.4Analysis](#3.4-Analysis)\n",
    "    - [3.5 Results](#3.5-Results)\n",
    "- [4. Implementation (optional)](#4.-Implementation-(optional))\n",
    "- [Conclusion](#Conclusion)\n",
    "- [References](#References)"
   ]
  },
  {
   "cell_type": "markdown",
   "metadata": {},
   "source": [
    "##  Abstract\n",
    "\n",
    "Chances are that you have had some life experience involving buying or selling a used car. Whether you have purchased a used car, sold your used car, or traded in your used car to a dealership, you have probably wondered: what factors determine how your car is valued? Using public data from Kaggle.com (Kaggle), a dataset containing all used vehicles listings for sales on Craigslist.com in the United States was cleaned and analyzed to answer this question. The uncleaned dataset had 25 features, which were edited down to 13."
   ]
  },
  {
   "cell_type": "markdown",
   "metadata": {},
   "source": [
    "## Introduction\n",
    "\n",
    "This project looks at using data from used car listings to see what, if any, features of a used vehicle can be used to determine the listing price of that car. A dataset from Kaggle.com titled 'Used Cars Dataset - Vehicle Listings From Craigslist.com' was utilized for this project (Kaggle). This very large dataset in its uncleaned form has over 435,849 data entries and 25 columns of unique features relating the vehicle listed. The raw data can be seen below.\n",
    "\n",
    "There were lots of NaN values throughout the dataset, so cleaning the data was an incredibly important first step. Once the data was cleaned and all NaN values were either filled or the row entry was eliminated, the data was explored. After the data exploration followed multiple linear regression and multiple linear regression with interactions analyses and then machine learning models in order to see if the price could be predicted using the car's features."
   ]
  },
  {
   "cell_type": "code",
   "execution_count": 1,
   "metadata": {},
   "outputs": [],
   "source": [
    "import numpy as np\n",
    "import pandas as pd\n",
    "import matplotlib.pyplot as plt\n",
    "import seaborn as sns\n",
    "import warnings\n",
    "warnings.filterwarnings(\"ignore\")\n",
    "%matplotlib inline"
   ]
  },
  {
   "cell_type": "code",
   "execution_count": 2,
   "metadata": {},
   "outputs": [],
   "source": [
    "df = pd.read_csv(\"vehicles.csv\")"
   ]
  },
  {
   "cell_type": "code",
   "execution_count": 3,
   "metadata": {},
   "outputs": [
    {
     "data": {
      "text/html": [
       "<div>\n",
       "<style scoped>\n",
       "    .dataframe tbody tr th:only-of-type {\n",
       "        vertical-align: middle;\n",
       "    }\n",
       "\n",
       "    .dataframe tbody tr th {\n",
       "        vertical-align: top;\n",
       "    }\n",
       "\n",
       "    .dataframe thead th {\n",
       "        text-align: right;\n",
       "    }\n",
       "</style>\n",
       "<table border=\"1\" class=\"dataframe\">\n",
       "  <thead>\n",
       "    <tr style=\"text-align: right;\">\n",
       "      <th></th>\n",
       "      <th>id</th>\n",
       "      <th>url</th>\n",
       "      <th>region</th>\n",
       "      <th>region_url</th>\n",
       "      <th>price</th>\n",
       "      <th>year</th>\n",
       "      <th>manufacturer</th>\n",
       "      <th>model</th>\n",
       "      <th>condition</th>\n",
       "      <th>cylinders</th>\n",
       "      <th>...</th>\n",
       "      <th>drive</th>\n",
       "      <th>size</th>\n",
       "      <th>type</th>\n",
       "      <th>paint_color</th>\n",
       "      <th>image_url</th>\n",
       "      <th>description</th>\n",
       "      <th>county</th>\n",
       "      <th>state</th>\n",
       "      <th>lat</th>\n",
       "      <th>long</th>\n",
       "    </tr>\n",
       "  </thead>\n",
       "  <tbody>\n",
       "    <tr>\n",
       "      <td>0</td>\n",
       "      <td>7119256118</td>\n",
       "      <td>https://mohave.craigslist.org/ctd/d/lake-havas...</td>\n",
       "      <td>mohave county</td>\n",
       "      <td>https://mohave.craigslist.org</td>\n",
       "      <td>3495</td>\n",
       "      <td>2012.0</td>\n",
       "      <td>jeep</td>\n",
       "      <td>patriot</td>\n",
       "      <td>like new</td>\n",
       "      <td>4 cylinders</td>\n",
       "      <td>...</td>\n",
       "      <td>NaN</td>\n",
       "      <td>NaN</td>\n",
       "      <td>NaN</td>\n",
       "      <td>silver</td>\n",
       "      <td>https://images.craigslist.org/00B0B_k2AXIJ21ok...</td>\n",
       "      <td>THIS 2012 JEEP PATRIOT IS A 4CYL. AC, STEREO, ...</td>\n",
       "      <td>NaN</td>\n",
       "      <td>az</td>\n",
       "      <td>34.4554</td>\n",
       "      <td>-114.2690</td>\n",
       "    </tr>\n",
       "    <tr>\n",
       "      <td>1</td>\n",
       "      <td>7120880186</td>\n",
       "      <td>https://oregoncoast.craigslist.org/cto/d/warre...</td>\n",
       "      <td>oregon coast</td>\n",
       "      <td>https://oregoncoast.craigslist.org</td>\n",
       "      <td>13750</td>\n",
       "      <td>2014.0</td>\n",
       "      <td>bmw</td>\n",
       "      <td>328i m-sport</td>\n",
       "      <td>good</td>\n",
       "      <td>NaN</td>\n",
       "      <td>...</td>\n",
       "      <td>rwd</td>\n",
       "      <td>NaN</td>\n",
       "      <td>sedan</td>\n",
       "      <td>grey</td>\n",
       "      <td>https://images.craigslist.org/00U0U_3cLk0WGOJ8...</td>\n",
       "      <td>Selling my 2014 BMW 328i with the following be...</td>\n",
       "      <td>NaN</td>\n",
       "      <td>or</td>\n",
       "      <td>46.1837</td>\n",
       "      <td>-123.8240</td>\n",
       "    </tr>\n",
       "    <tr>\n",
       "      <td>2</td>\n",
       "      <td>7115048251</td>\n",
       "      <td>https://greenville.craigslist.org/cto/d/sparta...</td>\n",
       "      <td>greenville / upstate</td>\n",
       "      <td>https://greenville.craigslist.org</td>\n",
       "      <td>2300</td>\n",
       "      <td>2001.0</td>\n",
       "      <td>dodge</td>\n",
       "      <td>caravan</td>\n",
       "      <td>excellent</td>\n",
       "      <td>6 cylinders</td>\n",
       "      <td>...</td>\n",
       "      <td>NaN</td>\n",
       "      <td>NaN</td>\n",
       "      <td>NaN</td>\n",
       "      <td>NaN</td>\n",
       "      <td>https://images.craigslist.org/00k0k_t4WqYn5nDC...</td>\n",
       "      <td>01 DODGE CARAVAN,3.3 ENGINE,AUT TRANS,199000 M...</td>\n",
       "      <td>NaN</td>\n",
       "      <td>sc</td>\n",
       "      <td>34.9352</td>\n",
       "      <td>-81.9654</td>\n",
       "    </tr>\n",
       "    <tr>\n",
       "      <td>3</td>\n",
       "      <td>7119250502</td>\n",
       "      <td>https://mohave.craigslist.org/cto/d/lake-havas...</td>\n",
       "      <td>mohave county</td>\n",
       "      <td>https://mohave.craigslist.org</td>\n",
       "      <td>9000</td>\n",
       "      <td>2004.0</td>\n",
       "      <td>chevrolet</td>\n",
       "      <td>colorado ls</td>\n",
       "      <td>excellent</td>\n",
       "      <td>5 cylinders</td>\n",
       "      <td>...</td>\n",
       "      <td>rwd</td>\n",
       "      <td>mid-size</td>\n",
       "      <td>pickup</td>\n",
       "      <td>red</td>\n",
       "      <td>https://images.craigslist.org/00J0J_lJEzfeVLHI...</td>\n",
       "      <td>2004 Chevy Colorado LS, ONLY 54000 ORIGINAL MI...</td>\n",
       "      <td>NaN</td>\n",
       "      <td>az</td>\n",
       "      <td>34.4783</td>\n",
       "      <td>-114.2710</td>\n",
       "    </tr>\n",
       "    <tr>\n",
       "      <td>4</td>\n",
       "      <td>7120433904</td>\n",
       "      <td>https://maine.craigslist.org/ctd/d/searsport-t...</td>\n",
       "      <td>maine</td>\n",
       "      <td>https://maine.craigslist.org</td>\n",
       "      <td>0</td>\n",
       "      <td>2021.0</td>\n",
       "      <td>NaN</td>\n",
       "      <td>Honda-Nissan-Kia-Ford-Hyundai-VW</td>\n",
       "      <td>NaN</td>\n",
       "      <td>NaN</td>\n",
       "      <td>...</td>\n",
       "      <td>NaN</td>\n",
       "      <td>NaN</td>\n",
       "      <td>NaN</td>\n",
       "      <td>NaN</td>\n",
       "      <td>https://images.craigslist.org/01010_j0IW34mCsm...</td>\n",
       "      <td>CALL: 207.548.6500 TEXT: 207.407.5598  **WE FI...</td>\n",
       "      <td>NaN</td>\n",
       "      <td>me</td>\n",
       "      <td>44.4699</td>\n",
       "      <td>-68.8963</td>\n",
       "    </tr>\n",
       "  </tbody>\n",
       "</table>\n",
       "<p>5 rows × 25 columns</p>\n",
       "</div>"
      ],
      "text/plain": [
       "           id                                                url  \\\n",
       "0  7119256118  https://mohave.craigslist.org/ctd/d/lake-havas...   \n",
       "1  7120880186  https://oregoncoast.craigslist.org/cto/d/warre...   \n",
       "2  7115048251  https://greenville.craigslist.org/cto/d/sparta...   \n",
       "3  7119250502  https://mohave.craigslist.org/cto/d/lake-havas...   \n",
       "4  7120433904  https://maine.craigslist.org/ctd/d/searsport-t...   \n",
       "\n",
       "                 region                          region_url  price    year  \\\n",
       "0         mohave county       https://mohave.craigslist.org   3495  2012.0   \n",
       "1          oregon coast  https://oregoncoast.craigslist.org  13750  2014.0   \n",
       "2  greenville / upstate   https://greenville.craigslist.org   2300  2001.0   \n",
       "3         mohave county       https://mohave.craigslist.org   9000  2004.0   \n",
       "4                 maine        https://maine.craigslist.org      0  2021.0   \n",
       "\n",
       "  manufacturer                             model  condition    cylinders  ...  \\\n",
       "0         jeep                           patriot   like new  4 cylinders  ...   \n",
       "1          bmw                      328i m-sport       good          NaN  ...   \n",
       "2        dodge                           caravan  excellent  6 cylinders  ...   \n",
       "3    chevrolet                       colorado ls  excellent  5 cylinders  ...   \n",
       "4          NaN  Honda-Nissan-Kia-Ford-Hyundai-VW        NaN          NaN  ...   \n",
       "\n",
       "  drive      size    type paint_color  \\\n",
       "0   NaN       NaN     NaN      silver   \n",
       "1   rwd       NaN   sedan        grey   \n",
       "2   NaN       NaN     NaN         NaN   \n",
       "3   rwd  mid-size  pickup         red   \n",
       "4   NaN       NaN     NaN         NaN   \n",
       "\n",
       "                                           image_url  \\\n",
       "0  https://images.craigslist.org/00B0B_k2AXIJ21ok...   \n",
       "1  https://images.craigslist.org/00U0U_3cLk0WGOJ8...   \n",
       "2  https://images.craigslist.org/00k0k_t4WqYn5nDC...   \n",
       "3  https://images.craigslist.org/00J0J_lJEzfeVLHI...   \n",
       "4  https://images.craigslist.org/01010_j0IW34mCsm...   \n",
       "\n",
       "                                         description county state      lat  \\\n",
       "0  THIS 2012 JEEP PATRIOT IS A 4CYL. AC, STEREO, ...    NaN    az  34.4554   \n",
       "1  Selling my 2014 BMW 328i with the following be...    NaN    or  46.1837   \n",
       "2  01 DODGE CARAVAN,3.3 ENGINE,AUT TRANS,199000 M...    NaN    sc  34.9352   \n",
       "3  2004 Chevy Colorado LS, ONLY 54000 ORIGINAL MI...    NaN    az  34.4783   \n",
       "4  CALL: 207.548.6500 TEXT: 207.407.5598  **WE FI...    NaN    me  44.4699   \n",
       "\n",
       "       long  \n",
       "0 -114.2690  \n",
       "1 -123.8240  \n",
       "2  -81.9654  \n",
       "3 -114.2710  \n",
       "4  -68.8963  \n",
       "\n",
       "[5 rows x 25 columns]"
      ]
     },
     "execution_count": 3,
     "metadata": {},
     "output_type": "execute_result"
    }
   ],
   "source": [
    "df.head()"
   ]
  },
  {
   "cell_type": "code",
   "execution_count": 4,
   "metadata": {},
   "outputs": [
    {
     "name": "stdout",
     "output_type": "stream",
     "text": [
      "<class 'pandas.core.frame.DataFrame'>\n",
      "RangeIndex: 435849 entries, 0 to 435848\n",
      "Data columns (total 25 columns):\n",
      "id              435849 non-null int64\n",
      "url             435849 non-null object\n",
      "region          435849 non-null object\n",
      "region_url      435849 non-null object\n",
      "price           435849 non-null int64\n",
      "year            434732 non-null float64\n",
      "manufacturer    415102 non-null object\n",
      "model           429650 non-null object\n",
      "condition       249043 non-null object\n",
      "cylinders       269465 non-null object\n",
      "fuel            432858 non-null object\n",
      "odometer        360701 non-null float64\n",
      "title_status    434043 non-null object\n",
      "transmission    433703 non-null object\n",
      "vin             239197 non-null object\n",
      "drive           313838 non-null object\n",
      "size            139888 non-null object\n",
      "type            318741 non-null object\n",
      "paint_color     300602 non-null object\n",
      "image_url       435825 non-null object\n",
      "description     435822 non-null object\n",
      "county          0 non-null float64\n",
      "state           435849 non-null object\n",
      "lat             427614 non-null float64\n",
      "long            427614 non-null float64\n",
      "dtypes: float64(5), int64(2), object(18)\n",
      "memory usage: 83.1+ MB\n"
     ]
    }
   ],
   "source": [
    "df.info()"
   ]
  },
  {
   "cell_type": "markdown",
   "metadata": {},
   "source": [
    "## 1. The problem\n",
    "\n",
    "There is a potentially endless list of car features to take into consideration when analyzing the worth of a used car, such as:\n",
    "\n",
    "- What's the gas miles per gallon (mpg)?\n",
    "- How many miles are already on the car?\n",
    "- Has the car been in an accident?\n",
    "- Hold old is the car?\n",
    "- Where, geographically, did the car live for most of it's life? Was it run in snow?\n",
    "- What color is the car?\n",
    "- Is the transmission manual or automatic?\n",
    "- Is the drive type a front-wheel drive, rear-wheel drive, or all-wheel drive?\n",
    "- How many doors does the car have?\n",
    "- How many people owned this car?\n",
    "- How often was the car serviced?\n",
    "\n",
    "Collecting meangingful data on this topic is quite an undertaking, especially with all the potential meaningful factors to analyze. There are also many different ways to buy and sell a car, such as in person at a local dealer or online on one of the many websites that compete in this field: AutoTrader, Cars.com, eBay Motors, Hemmings, Facebook Marketplace, CarGurus, TrueCar, Craigslist, Carvana, Bring-A-Trailer, Vroom, CarMax, and AutoTempest (Montway). \n",
    "\n",
    "[Back to top](#Table-of-contents)"
   ]
  },
  {
   "cell_type": "markdown",
   "metadata": {},
   "source": [
    "## 2. Purpose of the study\n",
    "\n",
    "According to an article on Bloomberg.com from 2015, about 88% of Americans own a car (Bloomberg). Another article from The Motley Fool lists transportation as the number two highest expenditure category, second only to housing (Fool). With so much money being spent on cars in the United States, using data to bring knowledge to the used vehicle market would be almost universally helpful to the average American. Whether you are buying a used car, selling your used car, or trading in your used vehicle to a dealership, this information can help make an informed decision on what your car is worth. \n",
    "\n",
    "Personally, I have purchased and sold three used cars within the last decade alone, so I have a particular desire to explore the relationships between car features and selling price. I sold the most recent car in October 2019 in advance of my move to Australia; now that I am back in the United States, I will be looking to buy a used vehicle in the upcoming months. I want to understand what features to look for, to make sure I am getting a car at a fair, market price. What car features are most important when determining price? What factors, if any, are unimportant? This study aims to address these questions.\n",
    "\n",
    "[Back to top](#Table-of-contents)"
   ]
  },
  {
   "cell_type": "markdown",
   "metadata": {},
   "source": [
    "## 3. Project description\n",
    "\n",
    "Using public data regarding used car sales on Craigslist in the United States, this project aims to analyze which features are significant when setting the price of a vehicle. This study looks at the United States used car market only. The focus is on the average American car buyer, so niche markets like motorcycles, trailers, motorhomes, etc. will not be used for this study. We also want to make sure this excludes extreme outliers that could skew the data, such as very old classic cars, high-end luxury cars, and brand new cars being sold on Craigslist.\n",
    "\n",
    "[Back to top](#Table-of-contents)"
   ]
  },
  {
   "cell_type": "markdown",
   "metadata": {},
   "source": [
    "### 3.1 Hypothesis\n",
    "\n",
    "Can data science techniques and methods be used to find significance in certain used car features in order to explain or predict the listed selling prices of these vehicles? My hypothesis is the variable 'mileage' has the greatest predicting power for the list price of a used vehicle.\n",
    "\n",
    "[Back to top](#Table-of-contents)"
   ]
  },
  {
   "cell_type": "markdown",
   "metadata": {},
   "source": [
    "### 3.2 Workflow\n",
    "\n",
    "An incredibly important first step was cleaning the raw dataset. As shown above, there were 25 features originally but not all of these were helpful for our study. Major feature engineering was done to create the final dataset I wanted to work with. First I dropped a couple columns that I knew were not necessary to our analysis, which included url links for the vehicle:\n",
    "- url\n",
    "- region\n",
    "- region_url\n",
    "\n",
    "I next dropped these columns, as they are specific to the individual car and not generic to used vehicles:\n",
    "- id\n",
    "- vin\n",
    "- image_url\n",
    "- description\n",
    "\n",
    "I removed the columns related to geographic location, as I wanted to find significance in the car's features, not in the location within the United States:\n",
    "- county\n",
    "- lat\n",
    "- long\n",
    "\n",
    "\n",
    "[Back to top](#Table-of-contents)"
   ]
  },
  {
   "cell_type": "code",
   "execution_count": 5,
   "metadata": {},
   "outputs": [],
   "source": [
    "# Remove the 9 columns mentioned above\n",
    "df.drop('url', axis=1, inplace=True)\n",
    "df.drop('region', axis=1, inplace=True)\n",
    "df.drop('region_url', axis=1, inplace=True)\n",
    "df.drop('id', axis=1, inplace=True)\n",
    "df.drop('vin', axis=1, inplace=True)\n",
    "df.drop('image_url', axis=1, inplace=True)\n",
    "df.drop('description', axis=1, inplace=True)\n",
    "df.drop('county', axis=1, inplace=True)\n",
    "df.drop('lat', axis=1, inplace=True)\n",
    "df.drop('long', axis=1, inplace=True)"
   ]
  },
  {
   "cell_type": "code",
   "execution_count": 6,
   "metadata": {},
   "outputs": [
    {
     "data": {
      "text/html": [
       "<div>\n",
       "<style scoped>\n",
       "    .dataframe tbody tr th:only-of-type {\n",
       "        vertical-align: middle;\n",
       "    }\n",
       "\n",
       "    .dataframe tbody tr th {\n",
       "        vertical-align: top;\n",
       "    }\n",
       "\n",
       "    .dataframe thead th {\n",
       "        text-align: right;\n",
       "    }\n",
       "</style>\n",
       "<table border=\"1\" class=\"dataframe\">\n",
       "  <thead>\n",
       "    <tr style=\"text-align: right;\">\n",
       "      <th></th>\n",
       "      <th>price</th>\n",
       "      <th>year</th>\n",
       "      <th>manufacturer</th>\n",
       "      <th>model</th>\n",
       "      <th>condition</th>\n",
       "      <th>cylinders</th>\n",
       "      <th>fuel</th>\n",
       "      <th>odometer</th>\n",
       "      <th>title_status</th>\n",
       "      <th>transmission</th>\n",
       "      <th>drive</th>\n",
       "      <th>size</th>\n",
       "      <th>type</th>\n",
       "      <th>paint_color</th>\n",
       "      <th>state</th>\n",
       "    </tr>\n",
       "  </thead>\n",
       "  <tbody>\n",
       "    <tr>\n",
       "      <td>0</td>\n",
       "      <td>3495</td>\n",
       "      <td>2012.0</td>\n",
       "      <td>jeep</td>\n",
       "      <td>patriot</td>\n",
       "      <td>like new</td>\n",
       "      <td>4 cylinders</td>\n",
       "      <td>gas</td>\n",
       "      <td>NaN</td>\n",
       "      <td>clean</td>\n",
       "      <td>automatic</td>\n",
       "      <td>NaN</td>\n",
       "      <td>NaN</td>\n",
       "      <td>NaN</td>\n",
       "      <td>silver</td>\n",
       "      <td>az</td>\n",
       "    </tr>\n",
       "    <tr>\n",
       "      <td>1</td>\n",
       "      <td>13750</td>\n",
       "      <td>2014.0</td>\n",
       "      <td>bmw</td>\n",
       "      <td>328i m-sport</td>\n",
       "      <td>good</td>\n",
       "      <td>NaN</td>\n",
       "      <td>gas</td>\n",
       "      <td>76237.0</td>\n",
       "      <td>clean</td>\n",
       "      <td>automatic</td>\n",
       "      <td>rwd</td>\n",
       "      <td>NaN</td>\n",
       "      <td>sedan</td>\n",
       "      <td>grey</td>\n",
       "      <td>or</td>\n",
       "    </tr>\n",
       "    <tr>\n",
       "      <td>2</td>\n",
       "      <td>2300</td>\n",
       "      <td>2001.0</td>\n",
       "      <td>dodge</td>\n",
       "      <td>caravan</td>\n",
       "      <td>excellent</td>\n",
       "      <td>6 cylinders</td>\n",
       "      <td>gas</td>\n",
       "      <td>199000.0</td>\n",
       "      <td>clean</td>\n",
       "      <td>automatic</td>\n",
       "      <td>NaN</td>\n",
       "      <td>NaN</td>\n",
       "      <td>NaN</td>\n",
       "      <td>NaN</td>\n",
       "      <td>sc</td>\n",
       "    </tr>\n",
       "    <tr>\n",
       "      <td>3</td>\n",
       "      <td>9000</td>\n",
       "      <td>2004.0</td>\n",
       "      <td>chevrolet</td>\n",
       "      <td>colorado ls</td>\n",
       "      <td>excellent</td>\n",
       "      <td>5 cylinders</td>\n",
       "      <td>gas</td>\n",
       "      <td>54000.0</td>\n",
       "      <td>clean</td>\n",
       "      <td>automatic</td>\n",
       "      <td>rwd</td>\n",
       "      <td>mid-size</td>\n",
       "      <td>pickup</td>\n",
       "      <td>red</td>\n",
       "      <td>az</td>\n",
       "    </tr>\n",
       "    <tr>\n",
       "      <td>4</td>\n",
       "      <td>0</td>\n",
       "      <td>2021.0</td>\n",
       "      <td>NaN</td>\n",
       "      <td>Honda-Nissan-Kia-Ford-Hyundai-VW</td>\n",
       "      <td>NaN</td>\n",
       "      <td>NaN</td>\n",
       "      <td>other</td>\n",
       "      <td>NaN</td>\n",
       "      <td>clean</td>\n",
       "      <td>other</td>\n",
       "      <td>NaN</td>\n",
       "      <td>NaN</td>\n",
       "      <td>NaN</td>\n",
       "      <td>NaN</td>\n",
       "      <td>me</td>\n",
       "    </tr>\n",
       "  </tbody>\n",
       "</table>\n",
       "</div>"
      ],
      "text/plain": [
       "   price    year manufacturer                             model  condition  \\\n",
       "0   3495  2012.0         jeep                           patriot   like new   \n",
       "1  13750  2014.0          bmw                      328i m-sport       good   \n",
       "2   2300  2001.0        dodge                           caravan  excellent   \n",
       "3   9000  2004.0    chevrolet                       colorado ls  excellent   \n",
       "4      0  2021.0          NaN  Honda-Nissan-Kia-Ford-Hyundai-VW        NaN   \n",
       "\n",
       "     cylinders   fuel  odometer title_status transmission drive      size  \\\n",
       "0  4 cylinders    gas       NaN        clean    automatic   NaN       NaN   \n",
       "1          NaN    gas   76237.0        clean    automatic   rwd       NaN   \n",
       "2  6 cylinders    gas  199000.0        clean    automatic   NaN       NaN   \n",
       "3  5 cylinders    gas   54000.0        clean    automatic   rwd  mid-size   \n",
       "4          NaN  other       NaN        clean        other   NaN       NaN   \n",
       "\n",
       "     type paint_color state  \n",
       "0     NaN      silver    az  \n",
       "1   sedan        grey    or  \n",
       "2     NaN         NaN    sc  \n",
       "3  pickup         red    az  \n",
       "4     NaN         NaN    me  "
      ]
     },
     "execution_count": 6,
     "metadata": {},
     "output_type": "execute_result"
    }
   ],
   "source": [
    "df.head()"
   ]
  },
  {
   "cell_type": "markdown",
   "metadata": {},
   "source": [
    "Then a lot more cleaning took place; below I describe the step by step process of how I cleaned my data.\n",
    "\n",
    "First I looked at the unique car manufacturers and saw that Harley Davidson was listed. Since this brand only makes and sells motorcycles, I deleted these 130 entries because I am only focusing on cars in this study.\n",
    "\n",
    "Looking at the conditions of the vehicles, there can be an incredibly large range from 'parts only' and 'salvage', all the way to working well in 'like new' condition. This study focuses on running, used cars from 'new' to 'fair' condition, and does not look at brand new vehicles or vehicles that are in such poor shape that they are not working. I deleted all entries that were labeled as 'salvage' under condition. I also deleted all entries of vehicles with 'title_status' of 'missing', 'parts only', and 'salvage'. \n",
    "\n",
    "Cars with odometer values below 5,000 miles were deleted, as these cars are considered 'new' and not 'used'. Cars with odometer values above 300,000 miles were deleted since this seemed to be a reasonable high-end cut off point in order to deal with the extreme outliers in the original dataset. Extreme outliers for cost were also addressed: all vehicles priced below 1,000 and above 100,000 were deleted.\n",
    "\n",
    "I then began filling in as many NaN values as I could. Jeeps, Land Rover, and Rovers come standard with all-wheel drive, so the 'drive' columns were populated with '4wd' for these manufacturers. Under 'type' all of these cars would be considered as 'offroad'. I deleted the 'type' entries of 'bus' since the study focuses on average consumer looking to buy a personal vehicle.\n",
    "\n",
    "I then deleted all remaining rows with missing values, leaving our final dataset with 88,821 data entries. Finally came transforming the data column types from string to numeric. (Please refer to my code for all steps and exploring; only the vital code steps are shown below of how I cleaned the data and arrived at the final dataset used in my analyses.)"
   ]
  },
  {
   "cell_type": "code",
   "execution_count": 7,
   "metadata": {},
   "outputs": [],
   "source": [
    "# Deleting rows with prices below $1,000 and above $100,000\n",
    "\n",
    "low = df[df['price']<1000].index\n",
    "high = df[df['price']>100000].index\n",
    "df.drop(low, inplace=True)\n",
    "df.drop(high, inplace=True)"
   ]
  },
  {
   "cell_type": "code",
   "execution_count": 8,
   "metadata": {},
   "outputs": [],
   "source": [
    "df['price_band']=0\n",
    "df.loc[(df['price']>1000)&(df['price']<=10000),'price_band']=0\n",
    "df.loc[(df['price']>10000)&(df['price']<=20000),'price_band']=1\n",
    "df.loc[(df['price']>20000)&(df['price']<=30000),'price_band']=2\n",
    "df.loc[(df['price']>30000)&(df['price']<=40000),'price_band']=3\n",
    "df.loc[(df['price']>40000)&(df['price']<=50000),'price_band']=4\n",
    "df.loc[(df['price']>50000)&(df['price']<=60000),'price_band']=5\n",
    "df.loc[(df['price']>60000)&(df['price']<=70000),'price_band']=6\n",
    "df.loc[(df['price']>70000)&(df['price']<=80000),'price_band']=7\n",
    "df.loc[(df['price']>80000)&(df['price']<=90000),'price_band']=8\n",
    "df.loc[(df['price']>90000)&(df['price']<=100000),'price_band']=9"
   ]
  },
  {
   "cell_type": "code",
   "execution_count": 9,
   "metadata": {},
   "outputs": [],
   "source": [
    "# Deleting rows with years below 1996\n",
    "\n",
    "old = df[df['year']<1996].index\n",
    "df.drop(old, inplace=True)"
   ]
  },
  {
   "cell_type": "code",
   "execution_count": 10,
   "metadata": {},
   "outputs": [],
   "source": [
    "# Deleting rows with year values of NaN, since there are only 1093 in total\n",
    "\n",
    "is_nan = df['year'].isnull()\n",
    "nan = df['year'][is_nan].index\n",
    "df.drop(nan, inplace=True)"
   ]
  },
  {
   "cell_type": "code",
   "execution_count": 11,
   "metadata": {},
   "outputs": [],
   "source": [
    "# The year bins are 5 years (mostly): 1996-2000, 2001-2005, 2006-2010, 2011-2015, 2016-2021\n",
    "df['year_band']=0 \n",
    "df.loc[df['year']<=2000,'year_band']=0 \n",
    "df.loc[(df['year']>2000)&(df['year']<=2005),'year_band']=1\n",
    "df.loc[(df['year']>2005)&(df['year']<=2010),'year_band']=2\n",
    "df.loc[(df['year']>2010)&(df['year']<=2015),'year_band']=3\n",
    "df.loc[(df['year']>2015)&(df['year']<=2021),'year_band']=4"
   ]
  },
  {
   "cell_type": "code",
   "execution_count": 12,
   "metadata": {},
   "outputs": [
    {
     "name": "stdout",
     "output_type": "stream",
     "text": [
      "        price    year     manufacturer                     model  condition  \\\n",
      "8966    13900  2004.0  harley-davidson                   edition       good   \n",
      "13204    5970  2004.0  harley-davidson    davidson ultra classic       good   \n",
      "19086    9500  1999.0  harley-davidson         davidson roadking        NaN   \n",
      "19119   13900  2004.0  harley-davidson                   edition  excellent   \n",
      "20509   22995  2013.0  harley-davidson  davidson tri glide ultra        NaN   \n",
      "...       ...     ...              ...                       ...        ...   \n",
      "417670  13900  2010.0  harley-davidson                       4x4   like new   \n",
      "423237   5450  2008.0  harley-davidson         davidson sporster        NaN   \n",
      "424298   4995  2007.0  harley-davidson                  xl 1200c        NaN   \n",
      "426889  18995  2018.0  harley-davidson                road glide  excellent   \n",
      "433630  25988  2012.0  harley-davidson                      6.2l   like new   \n",
      "\n",
      "          cylinders    fuel  odometer title_status transmission drive  \\\n",
      "8966    8 cylinders  diesel  136003.0      rebuilt    automatic   NaN   \n",
      "13204           NaN     gas   26841.0        clean       manual   NaN   \n",
      "19086           NaN     gas   11063.0        clean    automatic   NaN   \n",
      "19119   8 cylinders  diesel  136000.0      rebuilt    automatic   4wd   \n",
      "20509           NaN     gas    2713.0        clean    automatic   NaN   \n",
      "...             ...     ...       ...          ...          ...   ...   \n",
      "417670  8 cylinders     gas       NaN        clean    automatic   4wd   \n",
      "423237          NaN     gas       NaN        clean       manual   NaN   \n",
      "424298          NaN     gas   18240.0        clean    automatic   NaN   \n",
      "426889          NaN     gas    6696.0        clean    automatic   NaN   \n",
      "433630  8 cylinders     gas   81225.0        clean    automatic   4wd   \n",
      "\n",
      "             size   type paint_color state  price_band  year_band  \n",
      "8966          NaN    NaN      orange    md           1          1  \n",
      "13204         NaN  other         NaN    fl           0          1  \n",
      "19086         NaN    NaN         red    az           0          0  \n",
      "19119         NaN    NaN      orange    va           1          1  \n",
      "20509         NaN  other       black    ma           2          3  \n",
      "...           ...    ...         ...   ...         ...        ...  \n",
      "417670  full-size  truck       white    fl           1          2  \n",
      "423237        NaN    NaN         NaN    ks           0          2  \n",
      "424298        NaN    NaN       white    ks           0          2  \n",
      "426889        NaN  other         NaN    ia           1          4  \n",
      "433630  full-size  truck       white    or           2          3  \n",
      "\n",
      "[130 rows x 17 columns]\n"
     ]
    }
   ],
   "source": [
    "harley = df['manufacturer'] == 'harley-davidson'\n",
    "hd = df[harley].index\n",
    "print(df.loc[hd])"
   ]
  },
  {
   "cell_type": "code",
   "execution_count": 13,
   "metadata": {},
   "outputs": [],
   "source": [
    "# Deleting rows with manufacturer value of 'harley-davidson'\n",
    "\n",
    "df.drop(hd, inplace=True)"
   ]
  },
  {
   "cell_type": "code",
   "execution_count": 14,
   "metadata": {},
   "outputs": [
    {
     "name": "stdout",
     "output_type": "stream",
     "text": [
      "        price    year manufacturer                  model condition  \\\n",
      "1520     3500  2016.0       toyota          corolla s-xsp   salvage   \n",
      "1849     2750  2005.0         ford                   f150   salvage   \n",
      "2002     5900  2000.0       toyota               rav4 4wd   salvage   \n",
      "2699     4000  2000.0       toyota               4 runner   salvage   \n",
      "2904     1300  2006.0         ford                 fusion   salvage   \n",
      "...       ...     ...          ...                    ...       ...   \n",
      "427772   1300  2002.0          bmw                   325i   salvage   \n",
      "427871   2000  2006.0         ford             mustang gt   salvage   \n",
      "428385   1500  2008.0    chevrolet              impala ss   salvage   \n",
      "432208   2500  2003.0   mitsubishi  montero sport xls 4x4   salvage   \n",
      "433533   4995  2005.0    chevrolet                    van   salvage   \n",
      "\n",
      "          cylinders fuel  odometer title_status transmission drive       size  \\\n",
      "1520    4 cylinders  gas   38000.0        clean       manual   fwd    compact   \n",
      "1849    8 cylinders  gas  140000.0        clean    automatic   4wd  full-size   \n",
      "2002    4 cylinders  gas   82481.0      salvage       manual   4wd        NaN   \n",
      "2699            NaN  gas  170000.0        clean    automatic   4wd        NaN   \n",
      "2904            NaN  gas     115.0      salvage       manual   NaN  full-size   \n",
      "...             ...  ...       ...          ...          ...   ...        ...   \n",
      "427772          NaN  gas  140000.0        clean    automatic   NaN        NaN   \n",
      "427871  8 cylinders  gas  130000.0        clean    automatic   rwd        NaN   \n",
      "428385  8 cylinders  gas   90000.0      salvage    automatic   fwd  full-size   \n",
      "432208  6 cylinders  gas  120000.0        clean    automatic   4wd  full-size   \n",
      "433533  8 cylinders  gas       NaN      salvage    automatic   rwd  full-size   \n",
      "\n",
      "          type paint_color state  price_band  year_band  \n",
      "1520     sedan        blue    fl           0          4  \n",
      "1849    pickup      custom    me           0          1  \n",
      "2002       SUV       white    sd           0          0  \n",
      "2699       SUV      silver    ca           0          0  \n",
      "2904     sedan         red    ca           0          2  \n",
      "...        ...         ...   ...         ...        ...  \n",
      "427772     NaN        blue    la           0          1  \n",
      "427871   coupe      silver    ky           0          2  \n",
      "428385   sedan       white    la           0          2  \n",
      "432208     SUV        blue    ak           0          1  \n",
      "433533     van      custom    sc           0          1  \n",
      "\n",
      "[379 rows x 17 columns]\n"
     ]
    }
   ],
   "source": [
    "salvage = df['condition'] == 'salvage'\n",
    "sal = df[salvage].index\n",
    "print(df.loc[sal])"
   ]
  },
  {
   "cell_type": "code",
   "execution_count": 15,
   "metadata": {},
   "outputs": [],
   "source": [
    "# Deleting rows with condition value of 'salvage'\n",
    "\n",
    "df.drop(sal, inplace=True)"
   ]
  },
  {
   "cell_type": "code",
   "execution_count": 16,
   "metadata": {},
   "outputs": [],
   "source": [
    "# Deleting rows with cylinders value of 'other'; there are 876 values.\n",
    "\n",
    "cylinders = df['cylinders'] == 'other'\n",
    "cyl = df[cylinders].index\n",
    "df.drop(cyl, inplace=True)"
   ]
  },
  {
   "cell_type": "code",
   "execution_count": 17,
   "metadata": {},
   "outputs": [],
   "source": [
    "# Deleting rows with title_status values of NaN, since there are only 803 in total\n",
    "\n",
    "missing = df['title_status'].isnull()\n",
    "none = df['title_status'][missing].index\n",
    "df.drop(none, inplace=True)"
   ]
  },
  {
   "cell_type": "code",
   "execution_count": 18,
   "metadata": {},
   "outputs": [],
   "source": [
    "# Deleting rows with title_status values of 'missing','parts only', and 'salvage'.\n",
    "# This is to follow the previous assumption of only using data from practical and working\n",
    "# cars that are most likely 'legal' and able to be sold (in the case of a missing title).\n",
    "\n",
    "miss = df['title_status'] == 'missing'\n",
    "mi = df[miss].index\n",
    "df.drop(mi, inplace=True)\n",
    "parts = df['title_status'] == 'parts only'\n",
    "po = df[parts].index\n",
    "df.drop(po, inplace=True)\n",
    "salv = df['title_status'] == 'salvage'\n",
    "sa = df[salv].index\n",
    "df.drop(sa, inplace=True)"
   ]
  },
  {
   "cell_type": "code",
   "execution_count": 19,
   "metadata": {},
   "outputs": [],
   "source": [
    "# Deleting rows with transmission values of NaN, since there are 1511 in total\n",
    "\n",
    "tran = df['transmission'].isnull()\n",
    "tmiss = df['transmission'][tran].index\n",
    "df.drop(tmiss, inplace=True)"
   ]
  },
  {
   "cell_type": "code",
   "execution_count": 20,
   "metadata": {},
   "outputs": [],
   "source": [
    "# Deleting odometer values that are below 5,000 and above 300,000 miles\n",
    "# This is a good range for most used cars. 0-5,000 is considered new, and\n",
    "# the max value in this set reaches 10,000,000 miles. Which is way too\n",
    "# high to be a practical value. (10,118 values to be deleted. 1,900 above\n",
    "# 300,000 and 8218 below 5,000)\n",
    "\n",
    "newcar = df[df['odometer']<5000].index\n",
    "toohigh = df[df['odometer']>300000].index\n",
    "df.drop(newcar, inplace=True)\n",
    "df.drop(toohigh, inplace=True)"
   ]
  },
  {
   "cell_type": "code",
   "execution_count": 21,
   "metadata": {},
   "outputs": [
    {
     "name": "stdout",
     "output_type": "stream",
     "text": [
      "        price    year   manufacturer                    model condition  \\\n",
      "11       1499  2016.0           jeep                  compass       NaN   \n",
      "15      10988  2011.0      chevrolet                 suburban       NaN   \n",
      "16      16988  2012.0         nissan             titan pro-4x       NaN   \n",
      "35       2000  1998.0            bmw                     740i       NaN   \n",
      "47       5999  2009.0       chrysler              300 touring       NaN   \n",
      "...       ...     ...            ...                      ...       ...   \n",
      "435827   2999  2017.0  mercedes-benz             benz cla 250       NaN   \n",
      "435829   9995  2007.0         toyota  4runner sr5 sr5 4dr suv       NaN   \n",
      "435830  34677  2018.0          volvo                      s90       NaN   \n",
      "435833   6599  2014.0        hyundai                  elantra       NaN   \n",
      "435837   5999  2012.0           ford                 focus se       NaN   \n",
      "\n",
      "          cylinders fuel  odometer title_status transmission drive size type  \\\n",
      "11              NaN  gas       NaN        clean    automatic   NaN  NaN  NaN   \n",
      "15              NaN  gas       NaN        clean    automatic   NaN  NaN  NaN   \n",
      "16              NaN  gas       NaN        clean    automatic   NaN  NaN  NaN   \n",
      "35      8 cylinders  gas       NaN        clean    automatic   NaN  NaN  NaN   \n",
      "47              NaN  gas       NaN        clean    automatic   NaN  NaN  NaN   \n",
      "...             ...  ...       ...          ...          ...   ...  ...  ...   \n",
      "435827          NaN  gas       NaN        clean    automatic   NaN  NaN  NaN   \n",
      "435829          NaN  gas       NaN        clean    automatic   4wd  NaN  SUV   \n",
      "435830          NaN  gas       NaN        clean    automatic   NaN  NaN  NaN   \n",
      "435833          NaN  gas       NaN        clean    automatic   NaN  NaN  NaN   \n",
      "435837          NaN  gas       NaN        clean    automatic   NaN  NaN  NaN   \n",
      "\n",
      "       paint_color state  price_band  year_band  \n",
      "11             NaN    fl           0          4  \n",
      "15             NaN    az           1          3  \n",
      "16             NaN    az           1          3  \n",
      "35             NaN    sc           0          0  \n",
      "47             NaN    wi           0          2  \n",
      "...            ...   ...         ...        ...  \n",
      "435827         NaN    fl           0          4  \n",
      "435829      silver    or           0          2  \n",
      "435830         NaN    fl           3          4  \n",
      "435833         NaN    wi           0          3  \n",
      "435837         NaN    wi           0          3  \n",
      "\n",
      "[30735 rows x 17 columns]\n"
     ]
    }
   ],
   "source": [
    "# Finding the amount of data points that overlap, having both nan for condition and odometer\n",
    "\n",
    "odo = df['odometer'].isnull()\n",
    "cond = df['condition'].isnull()\n",
    "bothnan = odo & cond\n",
    "\n",
    "b_odo_cond = df['odometer'][bothnan].index\n",
    "print(df.loc[b_odo_cond])"
   ]
  },
  {
   "cell_type": "code",
   "execution_count": 22,
   "metadata": {},
   "outputs": [],
   "source": [
    "# Deleting rows with both condition and odometer values of NaN.\n",
    "\n",
    "df.drop(b_odo_cond, inplace=True)"
   ]
  },
  {
   "cell_type": "code",
   "execution_count": 23,
   "metadata": {},
   "outputs": [],
   "source": [
    "# Jeeps, Land Rovers, and Range Rovers all come standard with 4WD. Make sure all\n",
    "# data in 'drive' column are '4wd' for these manufacturers.\n",
    "\n",
    "df.loc[df['manufacturer'] == 'jeep','drive']='4wd'\n",
    "df.loc[df['manufacturer'] == 'rover','drive']='4wd'\n",
    "df.loc[df['manufacturer'] == 'land rover','drive']='4wd'"
   ]
  },
  {
   "cell_type": "code",
   "execution_count": 24,
   "metadata": {},
   "outputs": [],
   "source": [
    "# Jeeps, Land Rovers, and Range Rovers 'type' would be considered 'offroad'.\n",
    "\n",
    "df.loc[df['manufacturer'] == 'jeep','type']='offroad'\n",
    "df.loc[df['manufacturer'] == 'rover','type']='offroad'\n",
    "df.loc[df['manufacturer'] == 'land rover','type']='offroad'"
   ]
  },
  {
   "cell_type": "code",
   "execution_count": 25,
   "metadata": {},
   "outputs": [],
   "source": [
    "# Delete the 'type' of 'bus'\n",
    "\n",
    "bus = df['type'] == 'bus'\n",
    "bu = df[bus].index\n",
    "df.drop(bu, inplace=True)"
   ]
  },
  {
   "cell_type": "code",
   "execution_count": 26,
   "metadata": {},
   "outputs": [],
   "source": [
    "# Use type to get size. I only did this for clear-cut categories.\n",
    "# Categories I did NOT edit because they aren't as clear-cut: convertible\n",
    "# hatchback, mini-van, offroad, other, pickup, sedan, wagon\n",
    "\n",
    "df.loc[df['type'] == 'SUV','size']='full-size'\n",
    "df.loc[df['type'] == 'coupe','size']='sub-compact'\n",
    "df.loc[df['type'] == 'truck','size']='full-size'\n",
    "df.loc[df['type'] == 'van','size']='full-size'"
   ]
  },
  {
   "cell_type": "code",
   "execution_count": 27,
   "metadata": {},
   "outputs": [
    {
     "name": "stdout",
     "output_type": "stream",
     "text": [
      "<class 'pandas.core.frame.DataFrame'>\n",
      "Int64Index: 323504 entries, 0 to 435848\n",
      "Data columns (total 17 columns):\n",
      "price           323504 non-null int64\n",
      "year            323504 non-null float64\n",
      "manufacturer    313798 non-null object\n",
      "model           320854 non-null object\n",
      "condition       209830 non-null object\n",
      "cylinders       220178 non-null object\n",
      "fuel            321792 non-null object\n",
      "odometer        301443 non-null float64\n",
      "title_status    323504 non-null object\n",
      "transmission    323504 non-null object\n",
      "drive           258963 non-null object\n",
      "size            169261 non-null object\n",
      "type            264195 non-null object\n",
      "paint_color     247346 non-null object\n",
      "state           323504 non-null object\n",
      "price_band      323504 non-null int64\n",
      "year_band       323504 non-null int64\n",
      "dtypes: float64(2), int64(3), object(12)\n",
      "memory usage: 44.4+ MB\n"
     ]
    }
   ],
   "source": [
    "# Copy over to a new dataframe in order to make some dramatic cleaning changes:\n",
    "df_clean = df\n",
    "df_clean.info()"
   ]
  },
  {
   "cell_type": "code",
   "execution_count": 28,
   "metadata": {},
   "outputs": [],
   "source": [
    "# Deleting rows with condition values of NaN\n",
    "\n",
    "clean_condition = df_clean['condition'].isnull()\n",
    "cc = df_clean['condition'][clean_condition].index\n",
    "df_clean.drop(cc, inplace=True)"
   ]
  },
  {
   "cell_type": "code",
   "execution_count": 29,
   "metadata": {},
   "outputs": [],
   "source": [
    "# Deleting rows with size values of NaN\n",
    "\n",
    "clean_size = df_clean['size'].isnull()\n",
    "cs = df_clean['size'][clean_size].index\n",
    "df_clean.drop(cs, inplace=True)"
   ]
  },
  {
   "cell_type": "code",
   "execution_count": 30,
   "metadata": {},
   "outputs": [],
   "source": [
    "# Deleting rows with odometer values of NaN\n",
    "\n",
    "clean_odometer = df_clean['odometer'].isnull()\n",
    "co = df_clean['odometer'][clean_odometer].index\n",
    "df_clean.drop(co, inplace=True)"
   ]
  },
  {
   "cell_type": "code",
   "execution_count": 31,
   "metadata": {},
   "outputs": [],
   "source": [
    "# Deleting rows with paint_color values of NaN\n",
    "\n",
    "clean_paintco = df_clean['paint_color'].isnull()\n",
    "cpco = df_clean['paint_color'][clean_paintco].index\n",
    "df_clean.drop(cpco, inplace=True)"
   ]
  },
  {
   "cell_type": "code",
   "execution_count": 32,
   "metadata": {},
   "outputs": [],
   "source": [
    "# Deleting rows with cylinders values of NaN\n",
    "\n",
    "clean_cyl = df_clean['cylinders'].isnull()\n",
    "ccyl = df_clean['cylinders'][clean_cyl].index\n",
    "df_clean.drop(ccyl, inplace=True)"
   ]
  },
  {
   "cell_type": "code",
   "execution_count": 33,
   "metadata": {},
   "outputs": [],
   "source": [
    "# Deleting rows with type values of NaN\n",
    "\n",
    "clean_type = df_clean['type'].isnull()\n",
    "ctype = df_clean['type'][clean_type].index\n",
    "df_clean.drop(ctype, inplace=True)"
   ]
  },
  {
   "cell_type": "code",
   "execution_count": 34,
   "metadata": {},
   "outputs": [],
   "source": [
    "# Deleting rows with drive values of NaN\n",
    "\n",
    "clean_drive = df_clean['drive'].isnull()\n",
    "cdrive = df_clean['drive'][clean_drive].index\n",
    "df_clean.drop(cdrive, inplace=True)"
   ]
  },
  {
   "cell_type": "code",
   "execution_count": 35,
   "metadata": {},
   "outputs": [],
   "source": [
    "# Deleting rows with manufacturer values of NaN\n",
    "\n",
    "clean_manu = df_clean['manufacturer'].isnull()\n",
    "cmanu = df_clean['manufacturer'][clean_manu].index\n",
    "df_clean.drop(cmanu, inplace=True)"
   ]
  },
  {
   "cell_type": "code",
   "execution_count": 36,
   "metadata": {},
   "outputs": [],
   "source": [
    "# Deleting rows with model values of NaN\n",
    "\n",
    "clean_model = df_clean['model'].isnull()\n",
    "cmodel = df_clean['model'][clean_model].index\n",
    "df_clean.drop(cmodel, inplace=True)"
   ]
  },
  {
   "cell_type": "code",
   "execution_count": 37,
   "metadata": {},
   "outputs": [],
   "source": [
    "# Delete model column and state column\n",
    "\n",
    "df_clean.drop('model', axis=1, inplace=True)\n",
    "df_clean.drop('state', axis=1, inplace=True)"
   ]
  },
  {
   "cell_type": "code",
   "execution_count": 38,
   "metadata": {},
   "outputs": [],
   "source": [
    "# Test to transform all string columns to numeric, start with title_status.\n",
    "\n",
    "df_clean.title_status = df_clean.title_status.astype(str)\n",
    "df_clean['title_status'].replace(['clean','rebuilt','lien'],[0,1,2],inplace=True) "
   ]
  },
  {
   "cell_type": "code",
   "execution_count": 39,
   "metadata": {},
   "outputs": [],
   "source": [
    "# Transform manufacturer string column to numeric.\n",
    "\n",
    "df_clean.manufacturer = df_clean.manufacturer.astype(str)\n",
    "df_clean['manufacturer'].replace(['chevrolet','ford','subaru','volkswagen','jeep','nissan',\n",
    "                                 'toyota','acura','ram','honda','cadillac','volvo','audi',\n",
    "                                 'gmc','mercedes-benz','dodge','infiniti','fiat','bmw',\n",
    "                                 'jaguar','lincoln','rover','chrysler','lexus','buick',\n",
    "                                 'mazda','mercury','kia','hyundai','mitsubishi','pontiac',\n",
    "                                 'mini','saturn','alfa-romeo','morgan','porche','ferrari',\n",
    "                                 'land rover','aston-martin'],[0,1,2,3,4,5,6,7,8,9,10,11,12,\n",
    "                                 13,14,15,16,17,18,19,20,21,22,23,24,25,26,27,28,29,30,31,\n",
    "                                 32,33,34,35,36,37,38],inplace=True) "
   ]
  },
  {
   "cell_type": "code",
   "execution_count": 40,
   "metadata": {},
   "outputs": [],
   "source": [
    "# Transform condition string column to numeric.\n",
    "\n",
    "df_clean.condition = df_clean.condition.astype(str)\n",
    "df_clean['condition'].replace(['excellent','good','like new','fair','new'],[0,1,2,3,4],inplace=True) "
   ]
  },
  {
   "cell_type": "code",
   "execution_count": 41,
   "metadata": {},
   "outputs": [],
   "source": [
    "# Transform cylinders string column to numeric.\n",
    "\n",
    "df_clean.cylinders = df_clean.cylinders.astype(str)\n",
    "df_clean['cylinders'].replace(['5 cylinders','6 cylinders','8 cylinders','4 cylinders',\n",
    "                               '10 cylinders','12 cylinders','3 cylinders'],\n",
    "                              [0,1,2,3,4,5,6],inplace=True) "
   ]
  },
  {
   "cell_type": "code",
   "execution_count": 42,
   "metadata": {},
   "outputs": [],
   "source": [
    "# Transform fuel string column to numeric.\n",
    "\n",
    "df_clean.fuel = df_clean.fuel.astype(str)\n",
    "df_clean['fuel'].replace(['gas','diesel','hybrid','other','electric'],[0,1,2,3,4],inplace=True) "
   ]
  },
  {
   "cell_type": "code",
   "execution_count": 43,
   "metadata": {},
   "outputs": [],
   "source": [
    "# Transform transmission string column to numeric.\n",
    "\n",
    "df_clean.transmission = df_clean.transmission.astype(str)\n",
    "df_clean['transmission'].replace(['automatic','manual','other'],[0,1,2],inplace=True) "
   ]
  },
  {
   "cell_type": "code",
   "execution_count": 44,
   "metadata": {},
   "outputs": [],
   "source": [
    "# Transform drive string column to numeric.\n",
    "\n",
    "df_clean.drive = df_clean.drive.astype(str)\n",
    "df_clean['drive'].replace(['rwd','4wd','fwd'],[0,1,2],inplace=True) "
   ]
  },
  {
   "cell_type": "code",
   "execution_count": 45,
   "metadata": {},
   "outputs": [],
   "source": [
    "# Transform size string column to numeric.\n",
    "\n",
    "df_clean['size'] = df_clean['size'].astype(str)\n",
    "df_clean['size'].replace(['compact','full-size','mid-size','sub-compact'],[0,1,2,3],inplace=True) "
   ]
  },
  {
   "cell_type": "code",
   "execution_count": 46,
   "metadata": {},
   "outputs": [],
   "source": [
    "# Transform type string column to numeric.\n",
    "\n",
    "df_clean.type = df_clean.type.astype(str)\n",
    "df_clean['type'].replace(['pickup','convertible','truck','SUV','coupe','offroad',\n",
    "                         'sedan','wagon','mini-van','hatchback','van','other'],\n",
    "                         [0,1,2,3,4,5,6,7,8,9,10,11],inplace=True) "
   ]
  },
  {
   "cell_type": "code",
   "execution_count": 47,
   "metadata": {},
   "outputs": [],
   "source": [
    "# Transform paint_color string column to numeric.\n",
    "\n",
    "df_clean.paint_color = df_clean.paint_color.astype(str)\n",
    "df_clean['paint_color'].replace(['red','silver','white','grey','blue','green','black',\n",
    "                          'brown','yellow','custom','purple','orange'],\n",
    "                         [0,1,2,3,4,5,6,7,8,9,10,11],inplace=True)"
   ]
  },
  {
   "cell_type": "code",
   "execution_count": 48,
   "metadata": {},
   "outputs": [
    {
     "data": {
      "image/png": "[encoded data removed]",
      "text/plain": [
       "<Figure size 720x576 with 2 Axes>"
      ]
     },
     "metadata": {
      "needs_background": "light"
     },
     "output_type": "display_data"
    }
   ],
   "source": [
    "# Plot correlation matrix for \"df_clean\" dataset.\n",
    "\n",
    "sns.heatmap(df_clean.corr(),annot=True,cmap='RdYlGn',linewidths=0.2) \n",
    "fig=plt.gcf()\n",
    "fig.set_size_inches(10,8)\n",
    "plt.show()"
   ]
  },
  {
   "cell_type": "code",
   "execution_count": 49,
   "metadata": {},
   "outputs": [],
   "source": [
    "# Delete the price_band and year_band columns\n",
    "\n",
    "df_clean.drop('price_band', axis=1, inplace=True)\n",
    "df_clean.drop('year_band', axis=1, inplace=True)"
   ]
  },
  {
   "cell_type": "code",
   "execution_count": 50,
   "metadata": {},
   "outputs": [
    {
     "data": {
      "text/html": [
       "<div>\n",
       "<style scoped>\n",
       "    .dataframe tbody tr th:only-of-type {\n",
       "        vertical-align: middle;\n",
       "    }\n",
       "\n",
       "    .dataframe tbody tr th {\n",
       "        vertical-align: top;\n",
       "    }\n",
       "\n",
       "    .dataframe thead th {\n",
       "        text-align: right;\n",
       "    }\n",
       "</style>\n",
       "<table border=\"1\" class=\"dataframe\">\n",
       "  <thead>\n",
       "    <tr style=\"text-align: right;\">\n",
       "      <th></th>\n",
       "      <th>price</th>\n",
       "      <th>year</th>\n",
       "      <th>manufacturer</th>\n",
       "      <th>condition</th>\n",
       "      <th>cylinders</th>\n",
       "      <th>fuel</th>\n",
       "      <th>odometer</th>\n",
       "      <th>title_status</th>\n",
       "      <th>transmission</th>\n",
       "      <th>drive</th>\n",
       "      <th>size</th>\n",
       "      <th>type</th>\n",
       "      <th>paint_color</th>\n",
       "    </tr>\n",
       "  </thead>\n",
       "  <tbody>\n",
       "    <tr>\n",
       "      <td>3</td>\n",
       "      <td>9000</td>\n",
       "      <td>2004.0</td>\n",
       "      <td>0</td>\n",
       "      <td>0</td>\n",
       "      <td>0</td>\n",
       "      <td>0</td>\n",
       "      <td>54000.0</td>\n",
       "      <td>0</td>\n",
       "      <td>0</td>\n",
       "      <td>0</td>\n",
       "      <td>2</td>\n",
       "      <td>0</td>\n",
       "      <td>0</td>\n",
       "    </tr>\n",
       "    <tr>\n",
       "      <td>7</td>\n",
       "      <td>8500</td>\n",
       "      <td>2005.0</td>\n",
       "      <td>1</td>\n",
       "      <td>0</td>\n",
       "      <td>1</td>\n",
       "      <td>0</td>\n",
       "      <td>62800.0</td>\n",
       "      <td>0</td>\n",
       "      <td>0</td>\n",
       "      <td>0</td>\n",
       "      <td>2</td>\n",
       "      <td>1</td>\n",
       "      <td>1</td>\n",
       "    </tr>\n",
       "    <tr>\n",
       "      <td>12</td>\n",
       "      <td>2750</td>\n",
       "      <td>2006.0</td>\n",
       "      <td>0</td>\n",
       "      <td>1</td>\n",
       "      <td>2</td>\n",
       "      <td>0</td>\n",
       "      <td>165000.0</td>\n",
       "      <td>0</td>\n",
       "      <td>0</td>\n",
       "      <td>1</td>\n",
       "      <td>1</td>\n",
       "      <td>2</td>\n",
       "      <td>2</td>\n",
       "    </tr>\n",
       "    <tr>\n",
       "      <td>19</td>\n",
       "      <td>24930</td>\n",
       "      <td>2017.0</td>\n",
       "      <td>2</td>\n",
       "      <td>0</td>\n",
       "      <td>3</td>\n",
       "      <td>0</td>\n",
       "      <td>32989.0</td>\n",
       "      <td>0</td>\n",
       "      <td>0</td>\n",
       "      <td>1</td>\n",
       "      <td>1</td>\n",
       "      <td>3</td>\n",
       "      <td>3</td>\n",
       "    </tr>\n",
       "    <tr>\n",
       "      <td>26</td>\n",
       "      <td>3200</td>\n",
       "      <td>1998.0</td>\n",
       "      <td>3</td>\n",
       "      <td>1</td>\n",
       "      <td>3</td>\n",
       "      <td>0</td>\n",
       "      <td>98186.0</td>\n",
       "      <td>0</td>\n",
       "      <td>1</td>\n",
       "      <td>0</td>\n",
       "      <td>3</td>\n",
       "      <td>4</td>\n",
       "      <td>4</td>\n",
       "    </tr>\n",
       "  </tbody>\n",
       "</table>\n",
       "</div>"
      ],
      "text/plain": [
       "    price    year  manufacturer  condition  cylinders  fuel  odometer  \\\n",
       "3    9000  2004.0             0          0          0     0   54000.0   \n",
       "7    8500  2005.0             1          0          1     0   62800.0   \n",
       "12   2750  2006.0             0          1          2     0  165000.0   \n",
       "19  24930  2017.0             2          0          3     0   32989.0   \n",
       "26   3200  1998.0             3          1          3     0   98186.0   \n",
       "\n",
       "    title_status  transmission  drive  size  type  paint_color  \n",
       "3              0             0      0     2     0            0  \n",
       "7              0             0      0     2     1            1  \n",
       "12             0             0      1     1     2            2  \n",
       "19             0             0      1     1     3            3  \n",
       "26             0             1      0     3     4            4  "
      ]
     },
     "execution_count": 50,
     "metadata": {},
     "output_type": "execute_result"
    }
   ],
   "source": [
    "df_clean.head()"
   ]
  },
  {
   "cell_type": "code",
   "execution_count": 51,
   "metadata": {},
   "outputs": [
    {
     "data": {
      "text/plain": [
       "price             int64\n",
       "year            float64\n",
       "manufacturer      int64\n",
       "condition         int64\n",
       "cylinders         int64\n",
       "fuel              int64\n",
       "odometer        float64\n",
       "title_status      int64\n",
       "transmission      int64\n",
       "drive             int64\n",
       "size              int64\n",
       "type              int64\n",
       "paint_color       int64\n",
       "dtype: object"
      ]
     },
     "execution_count": 51,
     "metadata": {},
     "output_type": "execute_result"
    }
   ],
   "source": [
    "df_clean.dtypes"
   ]
  },
  {
   "cell_type": "code",
   "execution_count": 52,
   "metadata": {},
   "outputs": [
    {
     "name": "stdout",
     "output_type": "stream",
     "text": [
      "<class 'pandas.core.frame.DataFrame'>\n",
      "Int64Index: 88821 entries, 3 to 435846\n",
      "Data columns (total 13 columns):\n",
      "price           88821 non-null int64\n",
      "year            88821 non-null float64\n",
      "manufacturer    88821 non-null int64\n",
      "condition       88821 non-null int64\n",
      "cylinders       88821 non-null int64\n",
      "fuel            88821 non-null int64\n",
      "odometer        88821 non-null float64\n",
      "title_status    88821 non-null int64\n",
      "transmission    88821 non-null int64\n",
      "drive           88821 non-null int64\n",
      "size            88821 non-null int64\n",
      "type            88821 non-null int64\n",
      "paint_color     88821 non-null int64\n",
      "dtypes: float64(2), int64(11)\n",
      "memory usage: 9.5 MB\n"
     ]
    }
   ],
   "source": [
    "df_clean.info()"
   ]
  },
  {
   "cell_type": "markdown",
   "metadata": {},
   "source": [
    "#### Suitable Metrics\n",
    "\n",
    "The following were the final features used in my analyses to predict the 'price' metric that this study was focused around:\n",
    "- Year (the year the car was made)\n",
    "- Manufacturer (brand of car, i.e. BMW, Volvo)\n",
    "- Condition (excellent, good, like new, fair, new)\n",
    "- Cylinders (5 cylinders, 6 cylinders, 8 cylinders, 4 cylinders, 10 cylinders, 12 cylinders, 3 cylinders)\n",
    "- Fuel (gas, diesel, hybrid, other, electric)\n",
    "- Odometer (the number of miles on the car)\n",
    "- Title Status (clean, rebuilt, lien)\n",
    "- Transmission (automatic, manual, other)\n",
    "- Drive (rear-wheel drive (rwd), all-wheel drive (4wd),front-wheel drive (fwd))\n",
    "- Size (compact, full-size, mid-size, sub-compact)\n",
    "- Type (pickup, convertible, truck, SUV, coupe, offroad, sedan, wagon, mini-van, hatchback, van, other)\n",
    "- Paint Color (red, silver, white, grey, blue, green, black, brown, yellow, custom, purple, orange)"
   ]
  },
  {
   "cell_type": "markdown",
   "metadata": {},
   "source": [
    "### 3.3 Methods\n",
    "\n",
    "I am going to be testing five different methods: normality check, multiple linear regression, multiple linear regression with interactions, decision tree modeling, and random forest modeling.\n",
    "\n",
    "[Back to top](#Table-of-contents)"
   ]
  },
  {
   "cell_type": "markdown",
   "metadata": {},
   "source": [
    "### 3.4 Analysis \n",
    "\n",
    "The code used for testing normality, multiple linear regression, multiple linear regression with interactions, decision tree, and random forest can be found below.\n",
    "\n",
    "\n",
    "[Back to top](#Table-of-contents)"
   ]
  },
  {
   "cell_type": "markdown",
   "metadata": {},
   "source": [
    "#### Checking for Normality"
   ]
  },
  {
   "cell_type": "code",
   "execution_count": 145,
   "metadata": {},
   "outputs": [],
   "source": [
    "from scipy import stats"
   ]
  },
  {
   "cell_type": "code",
   "execution_count": 146,
   "metadata": {},
   "outputs": [],
   "source": [
    "def assert_normality(data):\n",
    "    statistic, pvalue = stats.shapiro(data)\n",
    "    print(\"Shapiro Stat\" + str(statistic) + \" and p-value \" + str(pvalue))\n",
    "    if pvalue > 0.05:\n",
    "        print(\"Normal\")\n",
    "        return True\n",
    "    else:\n",
    "        print(\"Not normal\")\n",
    "        return False"
   ]
  },
  {
   "cell_type": "code",
   "execution_count": 147,
   "metadata": {},
   "outputs": [
    {
     "name": "stdout",
     "output_type": "stream",
     "text": [
      "Shapiro Stat0.858588695526123 and p-value 0.0\n",
      "Not normal\n",
      "Shapiro Stat0.9519967436790466 and p-value 0.0\n",
      "Not normal\n",
      "Shapiro Stat0.8476524353027344 and p-value 0.0\n",
      "Not normal\n",
      "Shapiro Stat0.7682942152023315 and p-value 0.0\n",
      "Not normal\n",
      "Shapiro Stat0.8276485204696655 and p-value 0.0\n",
      "Not normal\n",
      "Shapiro Stat0.3124944567680359 and p-value 0.0\n",
      "Not normal\n",
      "Shapiro Stat0.9857133030891418 and p-value 0.0\n",
      "Not normal\n",
      "Shapiro Stat0.23754018545150757 and p-value 0.0\n",
      "Not normal\n",
      "Shapiro Stat0.28345823287963867 and p-value 0.0\n",
      "Not normal\n",
      "Shapiro Stat0.8039007186889648 and p-value 0.0\n",
      "Not normal\n",
      "Shapiro Stat0.7286144495010376 and p-value 0.0\n",
      "Not normal\n",
      "Shapiro Stat0.9244439005851746 and p-value 0.0\n",
      "Not normal\n",
      "Shapiro Stat0.9136128425598145 and p-value 0.0\n",
      "Not normal\n"
     ]
    },
    {
     "data": {
      "text/plain": [
       "price           False\n",
       "year            False\n",
       "manufacturer    False\n",
       "condition       False\n",
       "cylinders       False\n",
       "fuel            False\n",
       "odometer        False\n",
       "title_status    False\n",
       "transmission    False\n",
       "drive           False\n",
       "size            False\n",
       "type            False\n",
       "paint_color     False\n",
       "dtype: bool"
      ]
     },
     "execution_count": 147,
     "metadata": {},
     "output_type": "execute_result"
    }
   ],
   "source": [
    "df_modelprac.apply(lambda x: assert_normality(x))"
   ]
  },
  {
   "cell_type": "markdown",
   "metadata": {},
   "source": [
    "The data does not follow a normal distribution."
   ]
  },
  {
   "cell_type": "markdown",
   "metadata": {},
   "source": [
    "#### Multiple Linear Regression"
   ]
  },
  {
   "cell_type": "code",
   "execution_count": 148,
   "metadata": {},
   "outputs": [],
   "source": [
    "import numpy as np\n",
    "from sklearn import linear_model\n",
    "import pandas as pd\n",
    "\n",
    "df_modelprac = df_clean"
   ]
  },
  {
   "cell_type": "code",
   "execution_count": 161,
   "metadata": {},
   "outputs": [],
   "source": [
    "# Linear Regression - using odometer to predict price\n",
    "X = df_modelprac[[\"paint_color\"]]\n",
    "y = df_modelprac[\"price\"]"
   ]
  },
  {
   "cell_type": "code",
   "execution_count": 162,
   "metadata": {},
   "outputs": [
    {
     "data": {
      "text/plain": [
       "LinearRegression(copy_X=True, fit_intercept=True, n_jobs=None, normalize=False)"
      ]
     },
     "execution_count": 162,
     "metadata": {},
     "output_type": "execute_result"
    }
   ],
   "source": [
    "simple_prediction = linear_model.LinearRegression()\n",
    "simple_prediction.fit(X,y)"
   ]
  },
  {
   "cell_type": "code",
   "execution_count": 163,
   "metadata": {},
   "outputs": [
    {
     "name": "stdout",
     "output_type": "stream",
     "text": [
      "Intercept :  12398.18589184007\n"
     ]
    }
   ],
   "source": [
    "print(\"Intercept : \", simple_prediction.intercept_)"
   ]
  },
  {
   "cell_type": "code",
   "execution_count": 164,
   "metadata": {},
   "outputs": [
    {
     "name": "stdout",
     "output_type": "stream",
     "text": [
      "Coefficients :  [1.28499466]\n"
     ]
    }
   ],
   "source": [
    "print(\"Coefficients : \", simple_prediction.coef_)"
   ]
  },
  {
   "cell_type": "code",
   "execution_count": 165,
   "metadata": {},
   "outputs": [
    {
     "data": {
      "text/plain": [
       "1.0191990029717601e-07"
      ]
     },
     "execution_count": 165,
     "metadata": {},
     "output_type": "execute_result"
    }
   ],
   "source": [
    "simple_prediction.score(X,y)"
   ]
  },
  {
   "cell_type": "code",
   "execution_count": 154,
   "metadata": {},
   "outputs": [
    {
     "data": {
      "image/png": "[encoded data removed]",
      "text/plain": [
       "<Figure size 864x504 with 1 Axes>"
      ]
     },
     "metadata": {},
     "output_type": "display_data"
    }
   ],
   "source": [
    "import seaborn as sns\n",
    "\n",
    "# Multiple Linear Regression plot\n",
    "sns.set(color_codes=True)\n",
    "fig = plt.figure(figsize=(12, 7))\n",
    "sns.regplot(x=df_modelprac.year, y=df_modelprac.price, color='magenta', marker='+')\n",
    "plt.legend(labels=['Trend Line'])\n",
    "plt.title('Relationship between Year and Price', size=24)\n",
    "plt.xlabel('Year', size=16)\n",
    "plt.ylabel('Price', size=16);"
   ]
  },
  {
   "cell_type": "code",
   "execution_count": 80,
   "metadata": {},
   "outputs": [
    {
     "data": {
      "image/png": "[encoded data removed]",
      "text/plain": [
       "<Figure size 864x504 with 1 Axes>"
      ]
     },
     "metadata": {},
     "output_type": "display_data"
    }
   ],
   "source": [
    "# Multiple Linear Regression plot\n",
    "sns.set(color_codes=True)\n",
    "fig = plt.figure(figsize=(12, 7))\n",
    "sns.regplot(x=df_modelprac.odometer, y=df_modelprac.price, color='blue', marker='o')\n",
    "plt.legend(labels=['Trend Line'])\n",
    "plt.title('Relationship between Odometer and Price', size=24)\n",
    "plt.xlabel('Odometer', size=16)\n",
    "plt.ylabel('Price', size=16);"
   ]
  },
  {
   "cell_type": "code",
   "execution_count": 160,
   "metadata": {},
   "outputs": [
    {
     "data": {
      "image/png": "[encoded data removed]",
      "text/plain": [
       "<Figure size 864x504 with 1 Axes>"
      ]
     },
     "metadata": {},
     "output_type": "display_data"
    }
   ],
   "source": [
    "# Multiple Linear Regression plot\n",
    "sns.set(color_codes=True)\n",
    "fig = plt.figure(figsize=(12, 7))\n",
    "sns.regplot(x=df_modelprac.type, y=df_modelprac.price, color='green', marker='+')\n",
    "plt.legend(labels=['Trend Line'])\n",
    "plt.title('Relationship between Type and Price', size=24)\n",
    "plt.xlabel('Type', size=16)\n",
    "plt.ylabel('Price', size=16);"
   ]
  },
  {
   "cell_type": "code",
   "execution_count": 166,
   "metadata": {},
   "outputs": [
    {
     "data": {
      "image/png": "[encoded data removed]",
      "text/plain": [
       "<Figure size 864x504 with 1 Axes>"
      ]
     },
     "metadata": {},
     "output_type": "display_data"
    }
   ],
   "source": [
    "# Multiple Linear Regression plot\n",
    "sns.set(color_codes=True)\n",
    "fig = plt.figure(figsize=(12, 7))\n",
    "sns.regplot(x=df_modelprac.paint_color, y=df_modelprac.price, color='orange', marker='*')\n",
    "plt.legend(labels=['Trend Line'])\n",
    "plt.title('Relationship between Paint Color and Price', size=24)\n",
    "plt.xlabel('Paint Color', size=16)\n",
    "plt.ylabel('Price', size=16);"
   ]
  },
  {
   "cell_type": "markdown",
   "metadata": {},
   "source": [
    "The above code was run over and over again using different variables to attain the scores of each variable in the dataset. The following is each variable's resulting score:\n",
    "- year = 0.3162207\n",
    "- odometer = 0.2565765\n",
    "- type = 0.0652205\n",
    "- drive = 0.0594325\n",
    "- fuel = 0.044463\n",
    "- manufacturer = 0.0182277\n",
    "- cylinders = 0.0092212\n",
    "- title_status = 0.0035958\n",
    "- transmission = 0.0015195\n",
    "- condition = 0.0000121\n",
    "- size = 0.0000091\n",
    "- paint_color = 0.0000001"
   ]
  },
  {
   "cell_type": "markdown",
   "metadata": {},
   "source": [
    "#### Multiple Linear Regression with Interactions"
   ]
  },
  {
   "cell_type": "code",
   "execution_count": 167,
   "metadata": {},
   "outputs": [],
   "source": [
    "#Multiple linear regression with interactions - using year and drive to predict price\n",
    "X = df_modelprac[[\"year\", \"drive\"]]\n",
    "y = df_modelprac[\"price\"]"
   ]
  },
  {
   "cell_type": "code",
   "execution_count": 168,
   "metadata": {},
   "outputs": [
    {
     "data": {
      "text/plain": [
       "LinearRegression(copy_X=True, fit_intercept=True, n_jobs=None, normalize=False)"
      ]
     },
     "execution_count": 168,
     "metadata": {},
     "output_type": "execute_result"
    }
   ],
   "source": [
    "multiple_prediction = linear_model.LinearRegression()\n",
    "multiple_prediction.fit(X,y)"
   ]
  },
  {
   "cell_type": "code",
   "execution_count": 169,
   "metadata": {},
   "outputs": [
    {
     "name": "stdout",
     "output_type": "stream",
     "text": [
      "Intercept :  -2175446.6000281805\n"
     ]
    }
   ],
   "source": [
    "print(\"Intercept : \", multiple_prediction.intercept_)"
   ]
  },
  {
   "cell_type": "code",
   "execution_count": 170,
   "metadata": {},
   "outputs": [
    {
     "name": "stdout",
     "output_type": "stream",
     "text": [
      "Coefficient :  [ 1090.58223811 -3989.6362865 ]\n"
     ]
    }
   ],
   "source": [
    "print(\"Coefficient : \", multiple_prediction.coef_)"
   ]
  },
  {
   "cell_type": "code",
   "execution_count": 171,
   "metadata": {},
   "outputs": [
    {
     "data": {
      "text/plain": [
       "0.41080473696711256"
      ]
     },
     "execution_count": 171,
     "metadata": {},
     "output_type": "execute_result"
    }
   ],
   "source": [
    "multiple_prediction.score(X,y)"
   ]
  },
  {
   "cell_type": "markdown",
   "metadata": {},
   "source": [
    "#### OLS Multiple Model"
   ]
  },
  {
   "cell_type": "code",
   "execution_count": 172,
   "metadata": {},
   "outputs": [],
   "source": [
    "import statsmodels.api as sm\n",
    "X = df_modelprac[[\"year\", \"drive\"]]\n",
    "y = df_modelprac[\"price\"]"
   ]
  },
  {
   "cell_type": "code",
   "execution_count": 173,
   "metadata": {},
   "outputs": [],
   "source": [
    "X = sm.add_constant(X)"
   ]
  },
  {
   "cell_type": "code",
   "execution_count": 174,
   "metadata": {},
   "outputs": [],
   "source": [
    "multiple_model = sm.OLS(y,X).fit()"
   ]
  },
  {
   "cell_type": "code",
   "execution_count": 175,
   "metadata": {},
   "outputs": [
    {
     "data": {
      "text/html": [
       "<table class=\"simpletable\">\n",
       "<caption>OLS Regression Results</caption>\n",
       "<tr>\n",
       "  <th>Dep. Variable:</th>          <td>price</td>      <th>  R-squared:         </th>  <td>   0.411</td>  \n",
       "</tr>\n",
       "<tr>\n",
       "  <th>Model:</th>                   <td>OLS</td>       <th>  Adj. R-squared:    </th>  <td>   0.411</td>  \n",
       "</tr>\n",
       "<tr>\n",
       "  <th>Method:</th>             <td>Least Squares</td>  <th>  F-statistic:       </th>  <td>3.096e+04</td> \n",
       "</tr>\n",
       "<tr>\n",
       "  <th>Date:</th>             <td>Thu, 25 Jun 2020</td> <th>  Prob (F-statistic):</th>   <td>  0.00</td>   \n",
       "</tr>\n",
       "<tr>\n",
       "  <th>Time:</th>                 <td>13:37:07</td>     <th>  Log-Likelihood:    </th> <td>-9.1411e+05</td>\n",
       "</tr>\n",
       "<tr>\n",
       "  <th>No. Observations:</th>      <td> 88821</td>      <th>  AIC:               </th>  <td>1.828e+06</td> \n",
       "</tr>\n",
       "<tr>\n",
       "  <th>Df Residuals:</th>          <td> 88818</td>      <th>  BIC:               </th>  <td>1.828e+06</td> \n",
       "</tr>\n",
       "<tr>\n",
       "  <th>Df Model:</th>              <td>     2</td>      <th>                     </th>      <td> </td>     \n",
       "</tr>\n",
       "<tr>\n",
       "  <th>Covariance Type:</th>      <td>nonrobust</td>    <th>                     </th>      <td> </td>     \n",
       "</tr>\n",
       "</table>\n",
       "<table class=\"simpletable\">\n",
       "<tr>\n",
       "    <td></td>       <th>coef</th>     <th>std err</th>      <th>t</th>      <th>P>|t|</th>  <th>[0.025</th>    <th>0.975]</th>  \n",
       "</tr>\n",
       "<tr>\n",
       "  <th>const</th> <td>-2.175e+06</td> <td> 9521.841</td> <td> -228.469</td> <td> 0.000</td> <td>-2.19e+06</td> <td>-2.16e+06</td>\n",
       "</tr>\n",
       "<tr>\n",
       "  <th>year</th>  <td> 1090.5822</td> <td>    4.739</td> <td>  230.147</td> <td> 0.000</td> <td> 1081.295</td> <td> 1099.870</td>\n",
       "</tr>\n",
       "<tr>\n",
       "  <th>drive</th> <td>-3989.6363</td> <td>   33.412</td> <td> -119.407</td> <td> 0.000</td> <td>-4055.124</td> <td>-3924.149</td>\n",
       "</tr>\n",
       "</table>\n",
       "<table class=\"simpletable\">\n",
       "<tr>\n",
       "  <th>Omnibus:</th>       <td>39717.424</td> <th>  Durbin-Watson:     </th>  <td>   1.835</td> \n",
       "</tr>\n",
       "<tr>\n",
       "  <th>Prob(Omnibus):</th>  <td> 0.000</td>   <th>  Jarque-Bera (JB):  </th> <td>345842.690</td>\n",
       "</tr>\n",
       "<tr>\n",
       "  <th>Skew:</th>           <td> 1.946</td>   <th>  Prob(JB):          </th>  <td>    0.00</td> \n",
       "</tr>\n",
       "<tr>\n",
       "  <th>Kurtosis:</th>       <td>11.849</td>   <th>  Cond. No.          </th>  <td>8.00e+05</td> \n",
       "</tr>\n",
       "</table><br/><br/>Warnings:<br/>[1] Standard Errors assume that the covariance matrix of the errors is correctly specified.<br/>[2] The condition number is large,  8e+05. This might indicate that there are<br/>strong multicollinearity or other numerical problems."
      ],
      "text/plain": [
       "<class 'statsmodels.iolib.summary.Summary'>\n",
       "\"\"\"\n",
       "                            OLS Regression Results                            \n",
       "==============================================================================\n",
       "Dep. Variable:                  price   R-squared:                       0.411\n",
       "Model:                            OLS   Adj. R-squared:                  0.411\n",
       "Method:                 Least Squares   F-statistic:                 3.096e+04\n",
       "Date:                Thu, 25 Jun 2020   Prob (F-statistic):               0.00\n",
       "Time:                        13:37:07   Log-Likelihood:            -9.1411e+05\n",
       "No. Observations:               88821   AIC:                         1.828e+06\n",
       "Df Residuals:                   88818   BIC:                         1.828e+06\n",
       "Df Model:                           2                                         \n",
       "Covariance Type:            nonrobust                                         \n",
       "==============================================================================\n",
       "                 coef    std err          t      P>|t|      [0.025      0.975]\n",
       "------------------------------------------------------------------------------\n",
       "const      -2.175e+06   9521.841   -228.469      0.000   -2.19e+06   -2.16e+06\n",
       "year        1090.5822      4.739    230.147      0.000    1081.295    1099.870\n",
       "drive      -3989.6363     33.412   -119.407      0.000   -4055.124   -3924.149\n",
       "==============================================================================\n",
       "Omnibus:                    39717.424   Durbin-Watson:                   1.835\n",
       "Prob(Omnibus):                  0.000   Jarque-Bera (JB):           345842.690\n",
       "Skew:                           1.946   Prob(JB):                         0.00\n",
       "Kurtosis:                      11.849   Cond. No.                     8.00e+05\n",
       "==============================================================================\n",
       "\n",
       "Warnings:\n",
       "[1] Standard Errors assume that the covariance matrix of the errors is correctly specified.\n",
       "[2] The condition number is large,  8e+05. This might indicate that there are\n",
       "strong multicollinearity or other numerical problems.\n",
       "\"\"\""
      ]
     },
     "execution_count": 175,
     "metadata": {},
     "output_type": "execute_result"
    }
   ],
   "source": [
    "multiple_model.summary()"
   ]
  },
  {
   "cell_type": "markdown",
   "metadata": {},
   "source": [
    "The above code was run over and over again using different variable-pairs to attain the resulting scores below:\n",
    "- year & drive = 0.41080\n",
    "- year & type = 0.401015\n",
    "- year & odometer = 0.36264\n",
    "- odometer & type = 0.34860\n",
    "- year & cylinders = 0.34454\n",
    "- year & manufacturer = 0.329599\n",
    "- odometer & drive = 0.32273\n",
    "- year & transmission = 0.31892\n",
    "- year & condition = 0.316625\n",
    "- year & paint_color = 0.316328\n",
    "- odometer & manufacturer = 0.282749\n",
    "- odometer & cylinders = 0.278715\n",
    "- odometer & condition = 0.25658\n",
    "- odometer & paint_color = 0.25658\n",
    "- condition & type = 0.06523\n",
    "- condition & drive = 0.0595"
   ]
  },
  {
   "cell_type": "markdown",
   "metadata": {},
   "source": [
    "#### Decision Tree"
   ]
  },
  {
   "cell_type": "code",
   "execution_count": 203,
   "metadata": {},
   "outputs": [],
   "source": [
    "y = df_clean.price.values"
   ]
  },
  {
   "cell_type": "code",
   "execution_count": 204,
   "metadata": {},
   "outputs": [],
   "source": [
    "X = df_clean.drop([\"price\"], axis=1)"
   ]
  },
  {
   "cell_type": "code",
   "execution_count": 205,
   "metadata": {},
   "outputs": [],
   "source": [
    "# Split the data\n",
    "from sklearn.model_selection import train_test_split\n",
    "X_train, X_test, y_train, y_test = train_test_split(X,y,test_size=0.2, random_state=123)"
   ]
  },
  {
   "cell_type": "code",
   "execution_count": 206,
   "metadata": {},
   "outputs": [],
   "source": [
    "from sklearn.ensemble import RandomForestClassifier #Random Forest\n",
    "from sklearn.tree import DecisionTreeClassifier #Decision Tree\n",
    "from sklearn import metrics #accuracy measure"
   ]
  },
  {
   "cell_type": "code",
   "execution_count": 207,
   "metadata": {},
   "outputs": [
    {
     "name": "stdout",
     "output_type": "stream",
     "text": [
      "The accuracy of the Decision Tree is 0.3101041373487194\n"
     ]
    }
   ],
   "source": [
    "# Accurary results = 0.3096538\n",
    "\n",
    "model=DecisionTreeClassifier()\n",
    "model= model.fit(X_train,y_train)\n",
    "prediction3=model.predict(X_test)\n",
    "print('The accuracy of the Decision Tree is',metrics.accuracy_score(prediction3,y_test))"
   ]
  },
  {
   "cell_type": "markdown",
   "metadata": {},
   "source": [
    "#### Random Forest"
   ]
  },
  {
   "cell_type": "code",
   "execution_count": 110,
   "metadata": {},
   "outputs": [
    {
     "name": "stdout",
     "output_type": "stream",
     "text": [
      "The accuracy of the Random Forest is 0.3098226850548832\n"
     ]
    }
   ],
   "source": [
    "# Accurary results = 0.3098227 @ n_estimators = 10\n",
    "# Accurary results = 0.3128624 @ n_estimators = 20\n",
    "\n",
    "model=RandomForestClassifier(n_estimators=10) # test for different values\n",
    "model.fit(X_train,y_train)\n",
    "prediction6=model.predict(X_test)\n",
    "print('The accuracy of the Random Forest is',metrics.accuracy_score(prediction6,y_test))"
   ]
  },
  {
   "cell_type": "markdown",
   "metadata": {},
   "source": [
    "### 3.5 Results\n",
    "\n",
    "Normality:\n",
    "My final cleaned dataset was not found to be normal. Future steps for a study like this would be to explore new datasets or to conduct thorough studies that would result in normally distributed data on which to run these tests. While none of the results for these five tests show high statistical significance, the results of the tests are relatively significant to each other, and do suggest which variables are more helpful in predicting price for used cars. \n",
    "\n",
    "Multiple Linear Regression: \n",
    "This was an excellent place to begin in order to show the causal relationships between each of the different features and price. The results showed that 'year' had the most significant causal relationship (score = 0.316) to a car's listing price, followed fairly closely by 'odometer' (score = 0.257). There was a steep drop down to the next causal relationships, with only very slight significance from 'type' (score = 0.065), 'drive' (score = 0.059), and 'fuel' (score = 0.044), in that order of importance.\n",
    "\n",
    "Multiple Linear Regression with Interactions: \n",
    "This regression was very helpful in showing how the variables together influenced a vehicle's listing price, and there was an increase in significance when combining certain factors. The 'year' and 'drive' of a car showed the highest significance in causal relationship (score = 0.411), followed very closely by 'year' and 'type' (score = 0.401). I was interested to find that the two features, 'year' and 'odometer', with the highest scores in the multiple linear regressions, did not have the highest score when combined together for multiple linear regression with interactions (score = 0.363).\n",
    "\n",
    "Decision Tree & Random Forest: \n",
    "It makes sense that these two models have almost identical accuracy scores for their ability to predict price from the other variables in the dataset (decision tree = 0.30965; random forest (n_estimators=10) = 0.309823). This is because a random forest model uses many decision tree classifiers to sample subsets of the data and utilizes averaging in order to improve accuracy and not over-fit the model. These models worked well on this dataset due to the data not being normalized. \n",
    "\n",
    "\n",
    "[Back to top](#Table-of-contents)"
   ]
  },
  {
   "cell_type": "markdown",
   "metadata": {},
   "source": [
    "## Conclusion\n",
    "\n",
    "Modeling the data using multiple linear regression with interactions produced the most significant results with the highest accuracy scores, and the top three combinations of factors makes logical sense following \n",
    "\n",
    "This study showed the top four variables that influence the price of a car are the year, odometer reading, type, and drivetrain. Initially I thought that year and odometer would be more closely related, but the results show this is not strictly the case. While year is the age of the car, odometer illustrates how often the owner drives the car, and is not necessarily linked to the car's age. The older the vehicle, the likelihood of a lower price increases. The higher the odometer reading, the likelihood of a lower price increases. The combination of an older vehicle with a high odometer reading also are correlated to a lower price, but the relationship between these two are not as significant as the year and drivetrain, and the year and type.\n",
    "\n",
    "The strong relationship between price and type and drivetrain show that people value these qualities and probably have set ideas in their minds of what they want when purchasing a used vehicle. Most people know if they are looking to purchase a convertible, and will likely not be swayed into purchasing an SUV or offroading vehicle. This is the same kind of logic for drivetrain, in that most people know if they need the added stability and power of an all-wheel drive vehicle versus a front-wheel or a rear-wheel drive car.\n",
    "\n",
    "The strongest, one individual factor that affects a vehicle's listing price is the year of the car. Cars tend to breakdown with age, wear, and tear, so the newer a vehicle is, the more expensive it is likely to be.\n",
    "\n",
    "\n",
    "\n",
    "[Back to top](#Table-of-contents)"
   ]
  },
  {
   "cell_type": "markdown",
   "metadata": {},
   "source": [
    "## References\n",
    "\n",
    "- (Kaggle) https://www.kaggle.com/austinreese/craigslist-carstrucks-data?select=vehicles.csv\n",
    "- (Towards Data Science) https://towardsdatascience.com/predicting-used-car-prices-with-machine-learning-techniques-8a9d8313952\n",
    "- (Montway) https://www.montway.com/blog/best-sites-buy-sell-used-cars/\n",
    "- (Fool) https://www.fool.com/retirement/2017/08/14/8-expenses-that-account-for-87-of-the-average-hous.aspx\n",
    "- (Bloomberg) https://www.bloomberg.com/news/articles/2015-04-17/a-pew-survey-charts-global-car-motorcycle-and-bike-ownership#:~:text=About%2088%20percent%20of%20Americans%20owned%20cars%E2%80%94second%20in%20the%20world\n",
    "\n",
    "\n",
    "\n",
    "[Back to top](#Table-of-contents)"
   ]
  }
 ],
 "metadata": {
  "kernelspec": {
   "display_name": "Python 3",
   "language": "python",
   "name": "python3"
  },
  "language_info": {
   "codemirror_mode": {
    "name": "ipython",
    "version": 3
   },
   "file_extension": ".py",
   "mimetype": "text/x-python",
   "name": "python",
   "nbconvert_exporter": "python",
   "pygments_lexer": "ipython3",
   "version": "3.7.4"
  }
 },
 "nbformat": 4,
 "nbformat_minor": 4
}
